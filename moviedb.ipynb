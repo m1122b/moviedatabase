{
 "cells": [
  {
   "cell_type": "code",
   "execution_count": 1,
   "id": "99fe5bc9-b67b-41f8-bce3-892b3c4ccf18",
   "metadata": {},
   "outputs": [],
   "source": [
    "import matplotlib.pyplot as plt\n",
    "import numpy as np\n",
    "import pandas as pd"
   ]
  },
  {
   "cell_type": "code",
   "execution_count": 2,
   "id": "b178b448-4aa9-4ac4-8416-d0e383d73846",
   "metadata": {},
   "outputs": [],
   "source": [
    "%matplotlib inline"
   ]
  },
  {
   "cell_type": "code",
   "execution_count": 3,
   "id": "a342abc8-63d4-4e14-a9a0-6cc4d91bf1d7",
   "metadata": {},
   "outputs": [],
   "source": [
    "movies = pd.read_csv('tmdb_movies.csv')"
   ]
  },
  {
   "cell_type": "code",
   "execution_count": 4,
   "id": "e0afb406-c80f-4a5a-a3b2-0efdb53665ed",
   "metadata": {},
   "outputs": [],
   "source": [
    "genres = pd.read_csv('tmdb_genres.csv')"
   ]
  },
  {
   "cell_type": "code",
   "execution_count": 5,
   "id": "c8f56084-cfed-42bb-a376-456379e0d419",
   "metadata": {},
   "outputs": [],
   "source": [
    "movies.rename(columns={'Unnamed: 0':'Id'}, inplace=True)"
   ]
  },
  {
   "cell_type": "code",
   "execution_count": 6,
   "id": "8fc82df6-57f0-4e7a-b52c-45968e0445d0",
   "metadata": {},
   "outputs": [],
   "source": [
    "movies.set_index('Id', inplace=True)"
   ]
  },
  {
   "cell_type": "code",
   "execution_count": 7,
   "id": "e223f7b3-c2d2-4d5f-909b-a2d55192567e",
   "metadata": {},
   "outputs": [],
   "source": [
    "genres.rename(columns={'Unnamed: 0':'Id'}, inplace=True)"
   ]
  },
  {
   "cell_type": "code",
   "execution_count": 8,
   "id": "892629fa-f5c9-40ee-a6bc-e4166795bf30",
   "metadata": {},
   "outputs": [],
   "source": [
    "genres.set_index('Id', inplace=True)"
   ]
  },
  {
   "cell_type": "code",
   "execution_count": 9,
   "id": "a07688c4-abf7-4774-aea7-c6023cc80aaf",
   "metadata": {},
   "outputs": [
    {
     "data": {
      "text/html": [
       "<div>\n",
       "<style scoped>\n",
       "    .dataframe tbody tr th:only-of-type {\n",
       "        vertical-align: middle;\n",
       "    }\n",
       "\n",
       "    .dataframe tbody tr th {\n",
       "        vertical-align: top;\n",
       "    }\n",
       "\n",
       "    .dataframe thead th {\n",
       "        text-align: right;\n",
       "    }\n",
       "</style>\n",
       "<table border=\"1\" class=\"dataframe\">\n",
       "  <thead>\n",
       "    <tr style=\"text-align: right;\">\n",
       "      <th></th>\n",
       "      <th>budget</th>\n",
       "      <th>id</th>\n",
       "      <th>popularity</th>\n",
       "      <th>revenue</th>\n",
       "      <th>runtime</th>\n",
       "      <th>vote_average</th>\n",
       "      <th>vote_count</th>\n",
       "      <th>genre_id</th>\n",
       "    </tr>\n",
       "  </thead>\n",
       "  <tbody>\n",
       "    <tr>\n",
       "      <th>count</th>\n",
       "      <td>4.803000e+03</td>\n",
       "      <td>4803.000000</td>\n",
       "      <td>4803.000000</td>\n",
       "      <td>4.803000e+03</td>\n",
       "      <td>4801.000000</td>\n",
       "      <td>4803.000000</td>\n",
       "      <td>4803.000000</td>\n",
       "      <td>4775.000000</td>\n",
       "    </tr>\n",
       "    <tr>\n",
       "      <th>mean</th>\n",
       "      <td>2.904504e+07</td>\n",
       "      <td>57165.484281</td>\n",
       "      <td>21.492301</td>\n",
       "      <td>8.226064e+07</td>\n",
       "      <td>106.875859</td>\n",
       "      <td>6.092172</td>\n",
       "      <td>690.217989</td>\n",
       "      <td>634.411309</td>\n",
       "    </tr>\n",
       "    <tr>\n",
       "      <th>std</th>\n",
       "      <td>4.072239e+07</td>\n",
       "      <td>88694.614033</td>\n",
       "      <td>31.816650</td>\n",
       "      <td>1.628571e+08</td>\n",
       "      <td>22.611935</td>\n",
       "      <td>1.194612</td>\n",
       "      <td>1234.585891</td>\n",
       "      <td>2415.010323</td>\n",
       "    </tr>\n",
       "    <tr>\n",
       "      <th>min</th>\n",
       "      <td>0.000000e+00</td>\n",
       "      <td>5.000000</td>\n",
       "      <td>0.000000</td>\n",
       "      <td>0.000000e+00</td>\n",
       "      <td>0.000000</td>\n",
       "      <td>0.000000</td>\n",
       "      <td>0.000000</td>\n",
       "      <td>12.000000</td>\n",
       "    </tr>\n",
       "    <tr>\n",
       "      <th>25%</th>\n",
       "      <td>7.900000e+05</td>\n",
       "      <td>9014.500000</td>\n",
       "      <td>4.668070</td>\n",
       "      <td>0.000000e+00</td>\n",
       "      <td>94.000000</td>\n",
       "      <td>5.600000</td>\n",
       "      <td>54.000000</td>\n",
       "      <td>18.000000</td>\n",
       "    </tr>\n",
       "    <tr>\n",
       "      <th>50%</th>\n",
       "      <td>1.500000e+07</td>\n",
       "      <td>14629.000000</td>\n",
       "      <td>12.921594</td>\n",
       "      <td>1.917000e+07</td>\n",
       "      <td>103.000000</td>\n",
       "      <td>6.200000</td>\n",
       "      <td>235.000000</td>\n",
       "      <td>28.000000</td>\n",
       "    </tr>\n",
       "    <tr>\n",
       "      <th>75%</th>\n",
       "      <td>4.000000e+07</td>\n",
       "      <td>58610.500000</td>\n",
       "      <td>28.313505</td>\n",
       "      <td>9.291719e+07</td>\n",
       "      <td>118.000000</td>\n",
       "      <td>6.800000</td>\n",
       "      <td>737.000000</td>\n",
       "      <td>35.000000</td>\n",
       "    </tr>\n",
       "    <tr>\n",
       "      <th>max</th>\n",
       "      <td>3.800000e+08</td>\n",
       "      <td>459488.000000</td>\n",
       "      <td>875.581305</td>\n",
       "      <td>2.787965e+09</td>\n",
       "      <td>338.000000</td>\n",
       "      <td>10.000000</td>\n",
       "      <td>13752.000000</td>\n",
       "      <td>10770.000000</td>\n",
       "    </tr>\n",
       "  </tbody>\n",
       "</table>\n",
       "</div>"
      ],
      "text/plain": [
       "             budget             id   popularity       revenue      runtime  \\\n",
       "count  4.803000e+03    4803.000000  4803.000000  4.803000e+03  4801.000000   \n",
       "mean   2.904504e+07   57165.484281    21.492301  8.226064e+07   106.875859   \n",
       "std    4.072239e+07   88694.614033    31.816650  1.628571e+08    22.611935   \n",
       "min    0.000000e+00       5.000000     0.000000  0.000000e+00     0.000000   \n",
       "25%    7.900000e+05    9014.500000     4.668070  0.000000e+00    94.000000   \n",
       "50%    1.500000e+07   14629.000000    12.921594  1.917000e+07   103.000000   \n",
       "75%    4.000000e+07   58610.500000    28.313505  9.291719e+07   118.000000   \n",
       "max    3.800000e+08  459488.000000   875.581305  2.787965e+09   338.000000   \n",
       "\n",
       "       vote_average    vote_count      genre_id  \n",
       "count   4803.000000   4803.000000   4775.000000  \n",
       "mean       6.092172    690.217989    634.411309  \n",
       "std        1.194612   1234.585891   2415.010323  \n",
       "min        0.000000      0.000000     12.000000  \n",
       "25%        5.600000     54.000000     18.000000  \n",
       "50%        6.200000    235.000000     28.000000  \n",
       "75%        6.800000    737.000000     35.000000  \n",
       "max       10.000000  13752.000000  10770.000000  "
      ]
     },
     "execution_count": 9,
     "metadata": {},
     "output_type": "execute_result"
    }
   ],
   "source": [
    "movies.describe()"
   ]
  },
  {
   "cell_type": "code",
   "execution_count": 107,
   "id": "65955875-757d-4614-a23d-e5afff6ff907",
   "metadata": {},
   "outputs": [
    {
     "data": {
      "text/html": [
       "<div>\n",
       "<style scoped>\n",
       "    .dataframe tbody tr th:only-of-type {\n",
       "        vertical-align: middle;\n",
       "    }\n",
       "\n",
       "    .dataframe tbody tr th {\n",
       "        vertical-align: top;\n",
       "    }\n",
       "\n",
       "    .dataframe thead th {\n",
       "        text-align: right;\n",
       "    }\n",
       "</style>\n",
       "<table border=\"1\" class=\"dataframe\">\n",
       "  <thead>\n",
       "    <tr style=\"text-align: right;\">\n",
       "      <th></th>\n",
       "      <th>genres</th>\n",
       "    </tr>\n",
       "  </thead>\n",
       "  <tbody>\n",
       "    <tr>\n",
       "      <th>count</th>\n",
       "      <td>20</td>\n",
       "    </tr>\n",
       "    <tr>\n",
       "      <th>unique</th>\n",
       "      <td>20</td>\n",
       "    </tr>\n",
       "    <tr>\n",
       "      <th>top</th>\n",
       "      <td>Action</td>\n",
       "    </tr>\n",
       "    <tr>\n",
       "      <th>freq</th>\n",
       "      <td>1</td>\n",
       "    </tr>\n",
       "  </tbody>\n",
       "</table>\n",
       "</div>"
      ],
      "text/plain": [
       "        genres\n",
       "count       20\n",
       "unique      20\n",
       "top     Action\n",
       "freq         1"
      ]
     },
     "execution_count": 107,
     "metadata": {},
     "output_type": "execute_result"
    }
   ],
   "source": [
    "genres.describe()"
   ]
  },
  {
   "cell_type": "code",
   "execution_count": 10,
   "id": "aa8c18d2-fb9f-4e0e-9abb-2edd65101060",
   "metadata": {},
   "outputs": [
    {
     "data": {
      "text/plain": [
       "235.0"
      ]
     },
     "execution_count": 10,
     "metadata": {},
     "output_type": "execute_result"
    }
   ],
   "source": [
    "movies['vote_count'].median()"
   ]
  },
  {
   "cell_type": "code",
   "execution_count": 11,
   "id": "3388d26c-ce59-4933-a514-9e58c0229f62",
   "metadata": {},
   "outputs": [
    {
     "data": {
      "text/plain": [
       "737.0"
      ]
     },
     "execution_count": 11,
     "metadata": {},
     "output_type": "execute_result"
    }
   ],
   "source": [
    "movies['vote_count'].quantile(q = 0.75)"
   ]
  },
  {
   "cell_type": "code",
   "execution_count": 22,
   "id": "ce7088d1-615d-4609-a64c-4fe20b46e15b",
   "metadata": {},
   "outputs": [],
   "source": [
    "movies_zad1 = movies[movies['vote_count'] > movies['vote_count'].quantile(q=0.75)].sort_values(by='vote_average',ascending=False, ignore_index=True)[:10]"
   ]
  },
  {
   "cell_type": "code",
   "execution_count": 23,
   "id": "6150fbe9-d211-4771-8f95-d53b327b1f47",
   "metadata": {},
   "outputs": [
    {
     "data": {
      "text/html": [
       "<div>\n",
       "<style scoped>\n",
       "    .dataframe tbody tr th:only-of-type {\n",
       "        vertical-align: middle;\n",
       "    }\n",
       "\n",
       "    .dataframe tbody tr th {\n",
       "        vertical-align: top;\n",
       "    }\n",
       "\n",
       "    .dataframe thead th {\n",
       "        text-align: right;\n",
       "    }\n",
       "</style>\n",
       "<table border=\"1\" class=\"dataframe\">\n",
       "  <thead>\n",
       "    <tr style=\"text-align: right;\">\n",
       "      <th></th>\n",
       "      <th>budget</th>\n",
       "      <th>homepage</th>\n",
       "      <th>id</th>\n",
       "      <th>original_language</th>\n",
       "      <th>original_title</th>\n",
       "      <th>overview</th>\n",
       "      <th>popularity</th>\n",
       "      <th>release_date</th>\n",
       "      <th>revenue</th>\n",
       "      <th>runtime</th>\n",
       "      <th>status</th>\n",
       "      <th>tagline</th>\n",
       "      <th>title</th>\n",
       "      <th>vote_average</th>\n",
       "      <th>vote_count</th>\n",
       "      <th>genre_id</th>\n",
       "    </tr>\n",
       "  </thead>\n",
       "  <tbody>\n",
       "    <tr>\n",
       "      <th>0</th>\n",
       "      <td>25000000</td>\n",
       "      <td>NaN</td>\n",
       "      <td>278</td>\n",
       "      <td>en</td>\n",
       "      <td>The Shawshank Redemption</td>\n",
       "      <td>Framed in the 1940s for the double murder of h...</td>\n",
       "      <td>136.747729</td>\n",
       "      <td>1994-09-23</td>\n",
       "      <td>28341469</td>\n",
       "      <td>142.0</td>\n",
       "      <td>Released</td>\n",
       "      <td>Fear can hold you prisoner. Hope can set you f...</td>\n",
       "      <td>The Shawshank Redemption</td>\n",
       "      <td>8.5</td>\n",
       "      <td>8205</td>\n",
       "      <td>18.0</td>\n",
       "    </tr>\n",
       "    <tr>\n",
       "      <th>1</th>\n",
       "      <td>6000000</td>\n",
       "      <td>http://www.thegodfather.com/</td>\n",
       "      <td>238</td>\n",
       "      <td>en</td>\n",
       "      <td>The Godfather</td>\n",
       "      <td>Spanning the years 1945 to 1955, a chronicle o...</td>\n",
       "      <td>143.659698</td>\n",
       "      <td>1972-03-14</td>\n",
       "      <td>245066411</td>\n",
       "      <td>175.0</td>\n",
       "      <td>Released</td>\n",
       "      <td>An offer you can't refuse.</td>\n",
       "      <td>The Godfather</td>\n",
       "      <td>8.4</td>\n",
       "      <td>5893</td>\n",
       "      <td>18.0</td>\n",
       "    </tr>\n",
       "    <tr>\n",
       "      <th>2</th>\n",
       "      <td>15000000</td>\n",
       "      <td>http://movies.disney.com/spirited-away</td>\n",
       "      <td>129</td>\n",
       "      <td>ja</td>\n",
       "      <td>千と千尋の神隠し</td>\n",
       "      <td>A ten year old girl who wanders away from her ...</td>\n",
       "      <td>118.968562</td>\n",
       "      <td>2001-07-20</td>\n",
       "      <td>274925095</td>\n",
       "      <td>125.0</td>\n",
       "      <td>Released</td>\n",
       "      <td>The tunnel led Chihiro to a mysterious town...</td>\n",
       "      <td>Spirited Away</td>\n",
       "      <td>8.3</td>\n",
       "      <td>3840</td>\n",
       "      <td>14.0</td>\n",
       "    </tr>\n",
       "    <tr>\n",
       "      <th>3</th>\n",
       "      <td>3300000</td>\n",
       "      <td>http://sonyclassics.com/whiplash/</td>\n",
       "      <td>244786</td>\n",
       "      <td>en</td>\n",
       "      <td>Whiplash</td>\n",
       "      <td>Under the direction of a ruthless instructor, ...</td>\n",
       "      <td>192.528841</td>\n",
       "      <td>2014-10-10</td>\n",
       "      <td>13092000</td>\n",
       "      <td>105.0</td>\n",
       "      <td>Released</td>\n",
       "      <td>The road to greatness can take you to the edge.</td>\n",
       "      <td>Whiplash</td>\n",
       "      <td>8.3</td>\n",
       "      <td>4254</td>\n",
       "      <td>18.0</td>\n",
       "    </tr>\n",
       "    <tr>\n",
       "      <th>4</th>\n",
       "      <td>13000000</td>\n",
       "      <td>NaN</td>\n",
       "      <td>240</td>\n",
       "      <td>en</td>\n",
       "      <td>The Godfather: Part II</td>\n",
       "      <td>In the continuing saga of the Corleone crime f...</td>\n",
       "      <td>105.792936</td>\n",
       "      <td>1974-12-20</td>\n",
       "      <td>47542841</td>\n",
       "      <td>200.0</td>\n",
       "      <td>Released</td>\n",
       "      <td>I don't feel I have to wipe everybody out, Tom...</td>\n",
       "      <td>The Godfather: Part II</td>\n",
       "      <td>8.3</td>\n",
       "      <td>3338</td>\n",
       "      <td>18.0</td>\n",
       "    </tr>\n",
       "    <tr>\n",
       "      <th>5</th>\n",
       "      <td>8000000</td>\n",
       "      <td>NaN</td>\n",
       "      <td>680</td>\n",
       "      <td>en</td>\n",
       "      <td>Pulp Fiction</td>\n",
       "      <td>A burger-loving hit man, his philosophical par...</td>\n",
       "      <td>121.463076</td>\n",
       "      <td>1994-10-08</td>\n",
       "      <td>213928762</td>\n",
       "      <td>154.0</td>\n",
       "      <td>Released</td>\n",
       "      <td>Just because you are a character doesn't mean ...</td>\n",
       "      <td>Pulp Fiction</td>\n",
       "      <td>8.3</td>\n",
       "      <td>8428</td>\n",
       "      <td>53.0</td>\n",
       "    </tr>\n",
       "    <tr>\n",
       "      <th>6</th>\n",
       "      <td>22000000</td>\n",
       "      <td>http://www.schindlerslist.com/</td>\n",
       "      <td>424</td>\n",
       "      <td>en</td>\n",
       "      <td>Schindler's List</td>\n",
       "      <td>The true story of how businessman Oskar Schind...</td>\n",
       "      <td>104.469351</td>\n",
       "      <td>1993-11-29</td>\n",
       "      <td>321365567</td>\n",
       "      <td>195.0</td>\n",
       "      <td>Released</td>\n",
       "      <td>Whoever saves one life, saves the world entire.</td>\n",
       "      <td>Schindler's List</td>\n",
       "      <td>8.3</td>\n",
       "      <td>4329</td>\n",
       "      <td>18.0</td>\n",
       "    </tr>\n",
       "    <tr>\n",
       "      <th>7</th>\n",
       "      <td>63000000</td>\n",
       "      <td>http://www.foxmovies.com/movies/fight-club</td>\n",
       "      <td>550</td>\n",
       "      <td>en</td>\n",
       "      <td>Fight Club</td>\n",
       "      <td>A ticking-time-bomb insomniac and a slippery s...</td>\n",
       "      <td>146.757391</td>\n",
       "      <td>1999-10-15</td>\n",
       "      <td>100853753</td>\n",
       "      <td>139.0</td>\n",
       "      <td>Released</td>\n",
       "      <td>Mischief. Mayhem. Soap.</td>\n",
       "      <td>Fight Club</td>\n",
       "      <td>8.3</td>\n",
       "      <td>9413</td>\n",
       "      <td>18.0</td>\n",
       "    </tr>\n",
       "    <tr>\n",
       "      <th>8</th>\n",
       "      <td>806948</td>\n",
       "      <td>NaN</td>\n",
       "      <td>539</td>\n",
       "      <td>en</td>\n",
       "      <td>Psycho</td>\n",
       "      <td>When larcenous real estate clerk Marion Crane ...</td>\n",
       "      <td>93.067866</td>\n",
       "      <td>1960-06-16</td>\n",
       "      <td>32000000</td>\n",
       "      <td>109.0</td>\n",
       "      <td>Released</td>\n",
       "      <td>The master of suspense moves his cameras into ...</td>\n",
       "      <td>Psycho</td>\n",
       "      <td>8.2</td>\n",
       "      <td>2320</td>\n",
       "      <td>18.0</td>\n",
       "    </tr>\n",
       "    <tr>\n",
       "      <th>9</th>\n",
       "      <td>25000000</td>\n",
       "      <td>http://www.warnerbros.com/goodfellas</td>\n",
       "      <td>769</td>\n",
       "      <td>en</td>\n",
       "      <td>GoodFellas</td>\n",
       "      <td>The true story of Henry Hill, a half-Irish, ha...</td>\n",
       "      <td>63.654244</td>\n",
       "      <td>1990-09-12</td>\n",
       "      <td>46836394</td>\n",
       "      <td>145.0</td>\n",
       "      <td>Released</td>\n",
       "      <td>Three Decades of Life in the Mafia.</td>\n",
       "      <td>GoodFellas</td>\n",
       "      <td>8.2</td>\n",
       "      <td>3128</td>\n",
       "      <td>18.0</td>\n",
       "    </tr>\n",
       "  </tbody>\n",
       "</table>\n",
       "</div>"
      ],
      "text/plain": [
       "     budget                                    homepage      id  \\\n",
       "0  25000000                                         NaN     278   \n",
       "1   6000000                http://www.thegodfather.com/     238   \n",
       "2  15000000      http://movies.disney.com/spirited-away     129   \n",
       "3   3300000           http://sonyclassics.com/whiplash/  244786   \n",
       "4  13000000                                         NaN     240   \n",
       "5   8000000                                         NaN     680   \n",
       "6  22000000              http://www.schindlerslist.com/     424   \n",
       "7  63000000  http://www.foxmovies.com/movies/fight-club     550   \n",
       "8    806948                                         NaN     539   \n",
       "9  25000000        http://www.warnerbros.com/goodfellas     769   \n",
       "\n",
       "  original_language            original_title  \\\n",
       "0                en  The Shawshank Redemption   \n",
       "1                en             The Godfather   \n",
       "2                ja                  千と千尋の神隠し   \n",
       "3                en                  Whiplash   \n",
       "4                en    The Godfather: Part II   \n",
       "5                en              Pulp Fiction   \n",
       "6                en          Schindler's List   \n",
       "7                en                Fight Club   \n",
       "8                en                    Psycho   \n",
       "9                en                GoodFellas   \n",
       "\n",
       "                                            overview  popularity release_date  \\\n",
       "0  Framed in the 1940s for the double murder of h...  136.747729   1994-09-23   \n",
       "1  Spanning the years 1945 to 1955, a chronicle o...  143.659698   1972-03-14   \n",
       "2  A ten year old girl who wanders away from her ...  118.968562   2001-07-20   \n",
       "3  Under the direction of a ruthless instructor, ...  192.528841   2014-10-10   \n",
       "4  In the continuing saga of the Corleone crime f...  105.792936   1974-12-20   \n",
       "5  A burger-loving hit man, his philosophical par...  121.463076   1994-10-08   \n",
       "6  The true story of how businessman Oskar Schind...  104.469351   1993-11-29   \n",
       "7  A ticking-time-bomb insomniac and a slippery s...  146.757391   1999-10-15   \n",
       "8  When larcenous real estate clerk Marion Crane ...   93.067866   1960-06-16   \n",
       "9  The true story of Henry Hill, a half-Irish, ha...   63.654244   1990-09-12   \n",
       "\n",
       "     revenue  runtime    status  \\\n",
       "0   28341469    142.0  Released   \n",
       "1  245066411    175.0  Released   \n",
       "2  274925095    125.0  Released   \n",
       "3   13092000    105.0  Released   \n",
       "4   47542841    200.0  Released   \n",
       "5  213928762    154.0  Released   \n",
       "6  321365567    195.0  Released   \n",
       "7  100853753    139.0  Released   \n",
       "8   32000000    109.0  Released   \n",
       "9   46836394    145.0  Released   \n",
       "\n",
       "                                             tagline  \\\n",
       "0  Fear can hold you prisoner. Hope can set you f...   \n",
       "1                         An offer you can't refuse.   \n",
       "2     The tunnel led Chihiro to a mysterious town...   \n",
       "3    The road to greatness can take you to the edge.   \n",
       "4  I don't feel I have to wipe everybody out, Tom...   \n",
       "5  Just because you are a character doesn't mean ...   \n",
       "6    Whoever saves one life, saves the world entire.   \n",
       "7                            Mischief. Mayhem. Soap.   \n",
       "8  The master of suspense moves his cameras into ...   \n",
       "9                Three Decades of Life in the Mafia.   \n",
       "\n",
       "                      title  vote_average  vote_count  genre_id  \n",
       "0  The Shawshank Redemption           8.5        8205      18.0  \n",
       "1             The Godfather           8.4        5893      18.0  \n",
       "2             Spirited Away           8.3        3840      14.0  \n",
       "3                  Whiplash           8.3        4254      18.0  \n",
       "4    The Godfather: Part II           8.3        3338      18.0  \n",
       "5              Pulp Fiction           8.3        8428      53.0  \n",
       "6          Schindler's List           8.3        4329      18.0  \n",
       "7                Fight Club           8.3        9413      18.0  \n",
       "8                    Psycho           8.2        2320      18.0  \n",
       "9                GoodFellas           8.2        3128      18.0  "
      ]
     },
     "execution_count": 23,
     "metadata": {},
     "output_type": "execute_result"
    }
   ],
   "source": [
    "movies_zad1"
   ]
  },
  {
   "cell_type": "code",
   "execution_count": 37,
   "id": "47c0af4f-2953-4ab9-8823-a876412ae3ff",
   "metadata": {},
   "outputs": [],
   "source": [
    "movies['release_date'] = pd.to_datetime(movies['release_date'])"
   ]
  },
  {
   "cell_type": "code",
   "execution_count": 104,
   "id": "05e16d57-ab80-437e-a1e8-28fae46d7a80",
   "metadata": {},
   "outputs": [],
   "source": [
    "movies_group = movies.groupby(pd.Grouper(key='release_date', freq='Y')).mean()['2010-12-31':][:'2016-12-31']"
   ]
  },
  {
   "cell_type": "code",
   "execution_count": 102,
   "id": "6836c2b3-2b6e-46c6-9d62-509d1aafb97f",
   "metadata": {},
   "outputs": [],
   "source": [
    "def million(x, pos):\n",
    "        return '{:2.1f}M'.format(x*1e-6)"
   ]
  },
  {
   "cell_type": "code",
   "execution_count": 105,
   "id": "b5d3166f-38ee-4884-a650-5f4849844461",
   "metadata": {},
   "outputs": [],
   "source": [
    "movies_group2 = movies_group.reset_index()"
   ]
  },
  {
   "cell_type": "code",
   "execution_count": 106,
   "id": "8924274a-88bf-4682-b3fc-4b0de4fb4024",
   "metadata": {},
   "outputs": [
    {
     "data": {
      "image/png": "[encoded data removed]",
      "text/plain": [
       "<Figure size 432x288 with 1 Axes>"
      ]
     },
     "metadata": {
      "needs_background": "light"
     },
     "output_type": "display_data"
    }
   ],
   "source": [
    "fig, ax = plt.subplots()\n",
    "\n",
    "years = pd.DatetimeIndex(movies_group2['release_date']).year\n",
    "budget = movies_group2['budget']\n",
    "revenue = movies_group2['revenue']\n",
    "\n",
    "formatter = plt.FuncFormatter(million)\n",
    "ax.yaxis.set_major_formatter(formatter)\n",
    "\n",
    "ax.bar(years, revenue, label='revenue')\n",
    "\n",
    "ax.plot(years, budget, label='budget', color='red')\n",
    "\n",
    "ax.legend(loc=(1.05,0.75))\n",
    "ax.set_xlabel('Years')\n",
    "ax.set_ylabel('Money')\n",
    "ax.set_title('Średni przychód i budżet filmów w latach 2010-2016 roku')\n",
    "\n",
    "plt.show()"
   ]
  },
  {
   "cell_type": "code",
   "execution_count": 111,
   "id": "96445cab-e81b-4613-9d77-c363f88483dd",
   "metadata": {},
   "outputs": [],
   "source": [
    "movies_g = movies.join(genres,on='genre_id')"
   ]
  },
  {
   "cell_type": "code",
   "execution_count": 135,
   "id": "1004f04b-0efa-429f-92e9-9a7e65b1593f",
   "metadata": {},
   "outputs": [
    {
     "data": {
      "text/plain": [
       "Drama              1207\n",
       "Comedy             1042\n",
       "Action              754\n",
       "Adventure           339\n",
       "Horror              300\n",
       "Crime               195\n",
       "Thriller            194\n",
       "Animation           123\n",
       "Fantasy             117\n",
       "Romance             106\n",
       "Science Fiction      96\n",
       "Documentary          89\n",
       "Family               56\n",
       "Mystery              41\n",
       "Music                34\n",
       "Western              27\n",
       "History              25\n",
       "War                  24\n",
       "TV Movie              4\n",
       "Foreign               2\n",
       "Name: genres, dtype: int64"
      ]
     },
     "execution_count": 135,
     "metadata": {},
     "output_type": "execute_result"
    }
   ],
   "source": [
    "movies_g['genres'].value_counts()"
   ]
  },
  {
   "cell_type": "code",
   "execution_count": 136,
   "id": "b84d082d-e7d5-40dc-a0f5-920881447fef",
   "metadata": {},
   "outputs": [
    {
     "data": {
      "text/plain": [
       "budget          2.440340e+07\n",
       "id              7.737924e+04\n",
       "popularity      1.903479e+01\n",
       "revenue         7.277602e+07\n",
       "runtime         1.339600e+02\n",
       "vote_average    6.628000e+00\n",
       "vote_count      5.727600e+02\n",
       "genre_id        3.600000e+01\n",
       "Name: History, dtype: float64"
      ]
     },
     "execution_count": 136,
     "metadata": {},
     "output_type": "execute_result"
    }
   ],
   "source": [
    "movies_g2 = movies_g.groupby('genres').mean().sort_values(by='runtime',ascending=False).iloc[0]\n",
    "movies_g2"
   ]
  },
  {
   "cell_type": "code",
   "execution_count": 147,
   "id": "c4a8d915-64e8-4d53-b3be-48f2de0f6073",
   "metadata": {},
   "outputs": [],
   "source": [
    "movies_gh = movies_g[movies_g['genres']=='History']"
   ]
  },
  {
   "cell_type": "code",
   "execution_count": 149,
   "id": "f1abbd9c-4ba1-4dc7-a564-b2f113eafc74",
   "metadata": {},
   "outputs": [
    {
     "data": {
      "text/plain": [
       "<AxesSubplot:>"
      ]
     },
     "execution_count": 149,
     "metadata": {},
     "output_type": "execute_result"
    },
    {
     "data": {
      "image/png": "[encoded data removed]",
      "text/plain": [
       "<Figure size 432x288 with 1 Axes>"
      ]
     },
     "metadata": {
      "needs_background": "light"
     },
     "output_type": "display_data"
    }
   ],
   "source": [
    "movies_gh['runtime'].hist(bins=30)"
   ]
  },
  {
   "cell_type": "code",
   "execution_count": null,
   "id": "9ce942ab-f13f-474f-87ad-82c58ae9ea94",
   "metadata": {},
   "outputs": [],
   "source": []
  }
 ],
 "metadata": {
  "kernelspec": {
   "display_name": "Python 3 (ipykernel)",
   "language": "python",
   "name": "python3"
  },
  "language_info": {
   "codemirror_mode": {
    "name": "ipython",
    "version": 3
   },
   "file_extension": ".py",
   "mimetype": "text/x-python",
   "name": "python",
   "nbconvert_exporter": "python",
   "pygments_lexer": "ipython3",
   "version": "3.10.2"
  }
 },
 "nbformat": 4,
 "nbformat_minor": 5
}
